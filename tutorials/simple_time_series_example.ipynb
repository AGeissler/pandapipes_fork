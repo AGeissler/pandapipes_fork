{
 "cells": [
  {
   "cell_type": "markdown",
   "metadata": {},
   "source": [
    "# Simple Time Series Example"
   ]
  },
  {
   "cell_type": "markdown",
   "metadata": {},
   "source": [
    "This tutorial demonstrates how quasi-stationary time series analysis can be done with pandapipes. In the following, an already existing net is loaded from a json file. The prerequisites for a successful execution of a time series simulation are:\n",
    "\n",
    "- a pandapipes network\n",
    "- predefined time series for the sinks and sources in the network (e.g. 2 csv files)\n",
    "\n",
    "In this example, the following pandapipes network is loaded:"
   ]
  },
  {
   "cell_type": "markdown",
   "metadata": {},
   "source": [
    "<img src=\"pics/time_series_simple_example_network.png\">"
   ]
  },
  {
   "cell_type": "markdown",
   "metadata": {},
   "source": [
    "The following modules are imported first"
   ]
  },
  {
   "cell_type": "code",
   "execution_count": 1,
   "metadata": {},
   "outputs": [],
   "source": [
    "import os\n",
    "import pandas as pd\n",
    "import pandapower.control as control\n",
    "from pandapower.timeseries import DFData\n",
    "from pandapower.timeseries import OutputWriter\n",
    "from pandapipes.timeseries import run_timeseries"
   ]
  },
  {
   "cell_type": "markdown",
   "metadata": {},
   "source": [
    "Not that the time series functionality is provided by the pandapower module. But because the structure of pandapipes is similar to the one of pandapower, we can use the same functions here. \n",
    "\n",
    "With the following import statement, stored networks can be loaded."
   ]
  },
  {
   "cell_type": "code",
   "execution_count": 2,
   "metadata": {},
   "outputs": [],
   "source": [
    "from pandapipes import networks"
   ]
  },
  {
   "cell_type": "markdown",
   "metadata": {},
   "source": [
    "The loading procedure is started with this function call:"
   ]
  },
  {
   "cell_type": "code",
   "execution_count": 3,
   "metadata": {},
   "outputs": [],
   "source": [
    "net = networks.simple_gas_networks.gas_meshed_delta()"
   ]
  },
  {
   "cell_type": "markdown",
   "metadata": {},
   "source": [
    "This is the delta STANET network from the chapter [Meshed Networks](https://pandapipes.readthedocs.io/en/latest/networks/meshed/meshed_networks.html) with the medium gas."
   ]
  },
  {
   "cell_type": "markdown",
   "metadata": {},
   "source": [
    "In this example, time series data for the sink and source components is added. For every provided data point, an own pandapipes calculation will be executed. This is of course done automatically. Thus, the number of time steps in this case is 10. Since there is only one sink and one source, the respective csv file only consists of one column."
   ]
  },
  {
   "cell_type": "markdown",
   "metadata": {},
   "source": [
    "<img src=\"pics/time_series_simple_example_csv_files.png\">"
   ]
  },
  {
   "cell_type": "markdown",
   "metadata": {},
   "source": [
    "With the code"
   ]
  },
  {
   "cell_type": "code",
   "execution_count": 4,
   "metadata": {},
   "outputs": [],
   "source": [
    "profiles_sink = pd.read_csv(os.path.join('files',\n",
    "                                         'simple_time_series_example_sink_profiles.csv'),\n",
    "                                         index_col=0)\n",
    "profiles_source = pd.read_csv(os.path.join('files',\n",
    "                                           'simple_time_series_example_source_profiles.csv'),\n",
    "                                           index_col=0)\n",
    "ds_sink = DFData(profiles_sink)\n",
    "ds_source = DFData(profiles_source)\n",
    "\n",
    "const_sink = control.ConstControl(net, element='sink', variable='mdot_kg_per_s',\n",
    "                                  element_index=net.sink.index.values, data_source=ds_sink,\n",
    "                                  profile_name=net.sink.index.values.astype(str))\n",
    "const_source = control.ConstControl(net, element='source', variable='mdot_kg_per_s',\n",
    "                                    element_index=net.source.index.values,\n",
    "                                    data_source=ds_source,\n",
    "                                    profile_name=net.source.index.values.astype(str))"
   ]
  },
  {
   "cell_type": "markdown",
   "metadata": {},
   "source": [
    "the corresponding csv-file is read out, prepared as data sources (ds) for the controllers and the resulting DataFrames are written into the network with the help of the controller [ConstControl](https://pandapower.readthedocs.io/en/v2.2.2/control/controller.html#constcontrol). Then the desired time steps for which the network is to be calculated must be specified. In the present case, these can be defined from 1 to 10 at most, since only 10 time steps are specified for the sink and source. Likewise, for example, a range of 3 to 6 can be specified. Here the time steps from 1 to 10 are defined with"
   ]
  },
  {
   "cell_type": "code",
   "execution_count": 5,
   "metadata": {},
   "outputs": [],
   "source": [
    "time_steps = range(10)"
   ]
  },
  {
   "cell_type": "markdown",
   "metadata": {},
   "source": [
    "Furthermore an [OuputWriter](https://pandapower.readthedocs.io/en/v2.2.2/timeseries/output_writer.html) must be created, which is defined as `ow` using"
   ]
  },
  {
   "cell_type": "code",
   "execution_count": 6,
   "metadata": {},
   "outputs": [],
   "source": [
    "log_variables = [('res_junction', 'p_bar'), ('res_pipe', 'v_mean_m_per_s'),\n",
    "                 ('res_pipe', 'reynolds'), ('res_pipe', 'lambda'),\n",
    "                 ('res_sink', 'mdot_kg_per_s'), ('res_source', 'mdot_kg_per_s'),\n",
    "                 ('res_ext_grid', 'mdot_kg_per_s')]\n",
    "ow = OutputWriter(net, time_steps, output_path=None, log_variables=log_variables)"
   ]
  },
  {
   "cell_type": "markdown",
   "metadata": {},
   "source": [
    "In the output writer the results of the simulation are stored. Finally, the main function can be called to run the time series simulation:"
   ]
  },
  {
   "cell_type": "code",
   "execution_count": 7,
   "metadata": {},
   "outputs": [
    {
     "name": "stderr",
     "output_type": "stream",
     "text": [
      "One constant property has several input variables even though it is independent of these\n",
      "One constant property has several input variables even though it is independent of these\n",
      "One constant property has several input variables even though it is independent of these\n",
      "One constant property has several input variables even though it is independent of these\n",
      "One constant property has several input variables even though it is independent of these\n",
      "One constant property has several input variables even though it is independent of these\n",
      "One constant property has several input variables even though it is independent of these\n",
      "One constant property has several input variables even though it is independent of these\n",
      "One constant property has several input variables even though it is independent of these\n",
      "One constant property has several input variables even though it is independent of these\n",
      "One constant property has several input variables even though it is independent of these\n",
      "One constant property has several input variables even though it is independent of these\n",
      "One constant property has several input variables even though it is independent of these\n",
      "One constant property has several input variables even though it is independent of these\n",
      "One constant property has several input variables even though it is independent of these\n",
      "One constant property has several input variables even though it is independent of these\n",
      "One constant property has several input variables even though it is independent of these\n",
      "One constant property has several input variables even though it is independent of these\n",
      "One constant property has several input variables even though it is independent of these\n",
      "One constant property has several input variables even though it is independent of these\n",
      "One constant property has several input variables even though it is independent of these\n",
      "One constant property has several input variables even though it is independent of these\n",
      "One constant property has several input variables even though it is independent of these\n",
      "One constant property has several input variables even though it is independent of these\n",
      "One constant property has several input variables even though it is independent of these\n",
      "One constant property has several input variables even though it is independent of these\n",
      "One constant property has several input variables even though it is independent of these\n",
      "One constant property has several input variables even though it is independent of these\n",
      "One constant property has several input variables even though it is independent of these\n",
      "One constant property has several input variables even though it is independent of these\n"
     ]
    },
    {
     "name": "stdout",
     "output_type": "stream",
     "text": [
      "\r",
      "Progress: |--------------------------------------------------| 0.0% Complete\r",
      "Progress: |█████---------------------------------------------| 10.0% Complete\r",
      "Progress: |██████████----------------------------------------| 20.0% Complete\r",
      "Progress: |███████████████-----------------------------------| 30.0% Complete\r",
      "Progress: |████████████████████------------------------------| 40.0% Complete\r",
      "Progress: |█████████████████████████-------------------------| 50.0% Complete\r",
      "Progress: |██████████████████████████████--------------------| 60.0% Complete"
     ]
    },
    {
     "name": "stderr",
     "output_type": "stream",
     "text": [
      "One constant property has several input variables even though it is independent of these\n",
      "One constant property has several input variables even though it is independent of these\n",
      "One constant property has several input variables even though it is independent of these\n",
      "One constant property has several input variables even though it is independent of these\n",
      "One constant property has several input variables even though it is independent of these\n",
      "One constant property has several input variables even though it is independent of these\n",
      "One constant property has several input variables even though it is independent of these\n",
      "One constant property has several input variables even though it is independent of these\n",
      "One constant property has several input variables even though it is independent of these\n",
      "One constant property has several input variables even though it is independent of these\n",
      "One constant property has several input variables even though it is independent of these\n",
      "One constant property has several input variables even though it is independent of these\n",
      "One constant property has several input variables even though it is independent of these\n",
      "One constant property has several input variables even though it is independent of these\n",
      "One constant property has several input variables even though it is independent of these\n",
      "One constant property has several input variables even though it is independent of these\n",
      "One constant property has several input variables even though it is independent of these\n",
      "One constant property has several input variables even though it is independent of these\n",
      "One constant property has several input variables even though it is independent of these\n",
      "One constant property has several input variables even though it is independent of these\n"
     ]
    },
    {
     "name": "stdout",
     "output_type": "stream",
     "text": [
      "\r",
      "Progress: |███████████████████████████████████---------------| 70.0% Complete\r",
      "Progress: |████████████████████████████████████████----------| 80.0% Complete\r",
      "Progress: |█████████████████████████████████████████████-----| 90.0% Complete\r",
      "Progress: |██████████████████████████████████████████████████| 100.0% Complete\n",
      "\n"
     ]
    }
   ],
   "source": [
    "run_timeseries(net, time_steps)"
   ]
  },
  {
   "cell_type": "markdown",
   "metadata": {},
   "source": [
    "The results of the simulation can be accessed via the OutputWriter as follows:"
   ]
  },
  {
   "cell_type": "code",
   "execution_count": 8,
   "metadata": {},
   "outputs": [
    {
     "name": "stdout",
     "output_type": "stream",
     "text": [
      "pressure:\n",
      "[[3.49975257 3.5        3.49961173]\n",
      " [3.49973649 3.5        3.49949785]\n",
      " [3.49972162 3.5        3.49936071]\n",
      " [3.49970758 3.5        3.49920016]\n",
      " [3.49969414 3.5        3.4990161 ]\n",
      " [3.49968112 3.5        3.49880846]\n",
      " [3.49966839 3.5        3.49857714]\n",
      " [3.49965585 3.5        3.4983221 ]\n",
      " [3.49964345 3.5        3.49804329]\n",
      " [3.49963112 3.5        3.49774068]]\n",
      "mean velocity:\n",
      "[[-0.57651001 -0.49611582 -0.21696278]\n",
      " [-0.76534799 -0.51363216 -0.25383547]\n",
      " [-0.95276066 -0.5293793  -0.2932576 ]\n",
      " [-1.13916058 -0.54386481 -0.33449866]\n",
      " [-1.32480882 -0.55740925 -0.37709744]\n",
      " [-1.5099034  -0.57025531 -0.42070489]\n",
      " [-1.69457795 -0.58256615 -0.46508642]\n",
      " [-1.87893324 -0.59446437 -0.51006588]\n",
      " [-2.06302946 -0.60602249 -0.55553927]\n",
      " [-2.24692628 -0.61731235 -0.60140351]]\n",
      "reynolds number:\n",
      "[[17616.51199081 13644.68760488  4971.54745982]\n",
      " [23386.16464632 14126.19817054  5816.74628673]\n",
      " [29112.07624708 14559.10756425  6720.26651999]\n",
      " [34807.4075172  14958.03881282  7664.56052742]\n",
      " [40478.68817099 15330.24715434  8640.92202331]\n",
      " [46132.73805781 15683.31019923  9640.25787515]\n",
      " [51773.58389153 16021.70207401 10657.19913113]\n",
      " [57404.8788946  16349.48191474 11686.87482796]\n",
      " [63026.79298166 16666.83851545 12729.05841282]\n",
      " [68641.89412809 16976.62518213 13780.32591852]]\n",
      "lambda:\n",
      "[[0.02324864 0.02481883 0.03393751]\n",
      " [0.02235235 0.02465895 0.03206697]\n",
      " [0.02181409 0.02452424 0.03058769]\n",
      " [0.02145438 0.024407   0.02941438]\n",
      " [0.02119677 0.02430312 0.02847087]\n",
      " [0.02100299 0.02420913 0.02770308]\n",
      " [0.02085184 0.02412294 0.02706959]\n",
      " [0.02073058 0.02404286 0.02654048]\n",
      " [0.02063113 0.02396832 0.02609212]\n",
      " [0.02054806 0.02389825 0.02570856]]\n",
      "mass flow sink:\n",
      "[[0.02 ]\n",
      " [0.026]\n",
      " [0.032]\n",
      " [0.038]\n",
      " [0.044]\n",
      " [0.05 ]\n",
      " [0.056]\n",
      " [0.062]\n",
      " [0.068]\n",
      " [0.074]]\n",
      "mass flow source:\n",
      "[[0.005]\n",
      " [0.01 ]\n",
      " [0.015]\n",
      " [0.02 ]\n",
      " [0.025]\n",
      " [0.03 ]\n",
      " [0.035]\n",
      " [0.04 ]\n",
      " [0.045]\n",
      " [0.05 ]]\n",
      "mass flow ext. grid:\n",
      "[[-0.015]\n",
      " [-0.016]\n",
      " [-0.017]\n",
      " [-0.018]\n",
      " [-0.019]\n",
      " [-0.02 ]\n",
      " [-0.021]\n",
      " [-0.022]\n",
      " [-0.023]\n",
      " [-0.024]]\n"
     ]
    }
   ],
   "source": [
    "print(\"pressure:\")\n",
    "print(ow.np_results[\"res_junction.p_bar\"])\n",
    "print(\"mean velocity:\")\n",
    "print(ow.np_results[\"res_pipe.v_mean_m_per_s\"])\n",
    "print(\"reynolds number:\")\n",
    "print(ow.np_results[\"res_pipe.reynolds\"])\n",
    "print(\"lambda:\")\n",
    "print(ow.np_results[\"res_pipe.lambda\"])\n",
    "print(\"mass flow sink:\")\n",
    "print(ow.np_results[\"res_sink.mdot_kg_per_s\"])\n",
    "print(\"mass flow source:\")\n",
    "print(ow.np_results[\"res_source.mdot_kg_per_s\"])\n",
    "print(\"mass flow ext. grid:\")\n",
    "print(ow.np_results[\"res_ext_grid.mdot_kg_per_s\"])"
   ]
  },
  {
   "cell_type": "markdown",
   "metadata": {},
   "source": [
    "To view the results more clearly, they can be displayed with `matplotlib.pyplot` in a diagram with the time steps as x-axis.The time curve for the mass flow in the External Grid looks as follows:"
   ]
  },
  {
   "cell_type": "markdown",
   "metadata": {},
   "source": [
    "<img src=\"pics/time_series_simple_example_plot_mass_flow_ext_grid.png\">"
   ]
  },
  {
   "cell_type": "markdown",
   "metadata": {},
   "source": [
    "The figure can be created by the following lines:"
   ]
  },
  {
   "cell_type": "code",
   "execution_count": 9,
   "metadata": {},
   "outputs": [
    {
     "data": {
      "image/png": "[encoded data removed]",
      "text/plain": [
       "<Figure size 432x288 with 1 Axes>"
      ]
     },
     "metadata": {
      "needs_background": "light"
     },
     "output_type": "display_data"
    }
   ],
   "source": [
    "import matplotlib.pyplot as plt\n",
    "\n",
    "x = time_steps\n",
    "y = ow.np_results[\"res_ext_grid.mdot_kg_per_s\"]\n",
    "\n",
    "plt.xlabel(\"time step\")\n",
    "plt.ylabel(\"mass flow [kg/s]\")\n",
    "plt.title(\"External Grid Mass Flow Profile\")\n",
    "plt.plot(x, y, \"r-o\")\n",
    "plt.grid()\n",
    "plt.show()"
   ]
  },
  {
   "cell_type": "markdown",
   "metadata": {},
   "source": [
    "In addition, the pressure curves for the individual junctions can be plotted with this code block:"
   ]
  },
  {
   "cell_type": "code",
   "execution_count": 10,
   "metadata": {},
   "outputs": [
    {
     "data": {
      "image/png": "[encoded data removed]",
      "text/plain": [
       "<Figure size 432x288 with 1 Axes>"
      ]
     },
     "metadata": {
      "needs_background": "light"
     },
     "output_type": "display_data"
    }
   ],
   "source": [
    "import matplotlib.pyplot as plt\n",
    "\n",
    "x = time_steps\n",
    "y = ow.np_results[\"res_junction.p_bar\"]\n",
    "\n",
    "plt.xlabel(\"time step\")\n",
    "plt.ylabel(\"pressure [bar]\")\n",
    "plt.title(\"Pressure Profile\")\n",
    "plt.plot(x, y[:,0], \"g-o\")\n",
    "plt.plot(x, y[:,1], \"r-o\")\n",
    "plt.plot(x, y[:,2], \"y-o\")\n",
    "plt.legend([\"Source\", \"External Grid\", \"Sink\"], loc='lower left')\n",
    "plt.grid()\n",
    "plt.show()"
   ]
  },
  {
   "cell_type": "markdown",
   "metadata": {},
   "source": [
    "<img src=\"pics/time_series_simple_example_plot_pressures.png\">"
   ]
  },
  {
   "cell_type": "markdown",
   "metadata": {},
   "source": [
    "As a final example to illustrate the results, the flow velocities of the three pipes are plotted:"
   ]
  },
  {
   "cell_type": "markdown",
   "metadata": {},
   "source": [
    "<img src=\"pics/time_series_simple_example_plot_velocities.png\">"
   ]
  },
  {
   "cell_type": "markdown",
   "metadata": {},
   "source": [
    "For this purpose, the following code must be executed:"
   ]
  },
  {
   "cell_type": "code",
   "execution_count": 11,
   "metadata": {},
   "outputs": [
    {
     "data": {
      "image/png": "[encoded data removed]",
      "text/plain": [
       "<Figure size 432x288 with 1 Axes>"
      ]
     },
     "metadata": {
      "needs_background": "light"
     },
     "output_type": "display_data"
    }
   ],
   "source": [
    "import matplotlib.pyplot as plt\n",
    "\n",
    "x = time_steps\n",
    "y = ow.np_results[\"res_pipe.v_mean_m_per_s\"]\n",
    "\n",
    "plt.xlabel(\"time step\")\n",
    "plt.ylabel(\"v_mean [m/s]\")\n",
    "plt.title(\"Velocity Profile\")\n",
    "plt.plot(x, y[:,0], \"g-o\")\n",
    "plt.plot(x, y[:,1], \"r-o\")\n",
    "plt.plot(x, y[:,2], \"y-o\")\n",
    "plt.legend([\"Pipe 1\", \"Pipe 2\", \"Pipe 3\"], loc='lower left')\n",
    "plt.grid()\n",
    "plt.show()"
   ]
  },
  {
   "cell_type": "code",
   "execution_count": null,
   "metadata": {},
   "outputs": [],
   "source": []
  }
 ],
 "metadata": {
  "kernelspec": {
   "display_name": "Python 3",
   "language": "python",
   "name": "python3"
  },
  "language_info": {
   "codemirror_mode": {
    "name": "ipython",
    "version": 3
   },
   "file_extension": ".py",
   "mimetype": "text/x-python",
   "name": "python",
   "nbconvert_exporter": "python",
   "pygments_lexer": "ipython3",
   "version": "3.7.4"
  }
 },
 "nbformat": 4,
 "nbformat_minor": 2
}
